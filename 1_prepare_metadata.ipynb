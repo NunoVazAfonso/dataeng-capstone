{
 "cells": [
  {
   "cell_type": "code",
   "execution_count": 12,
   "metadata": {},
   "outputs": [],
   "source": [
    "import configparser\n",
    "import zenodo_get\n",
    "import boto3"
   ]
  },
  {
   "cell_type": "code",
   "execution_count": 32,
   "metadata": {},
   "outputs": [],
   "source": [
    "config = configparser.ConfigParser()\n",
    "config.read('configs/global.cfg')\n",
    "\n",
    "KEY = config.get('AWS', 'AWS_ACCESS_KEY_ID')\n",
    "SECRET = config.get('AWS','AWS_SECRET_ACCESS_KEY')\n",
    "\n",
    "input_path = config.get('PATH', 'INPUT_DATA_FOLDER')\n",
    "output_path = config.get('PATH', 'OUTPUT_DATA_FOLDER')"
   ]
  },
  {
   "cell_type": "code",
   "execution_count": 33,
   "metadata": {},
   "outputs": [],
   "source": [
    "flights_repo=config.get('ZENODO', 'FLIGHTS_REPO')\n",
    "tweets_repo=config.get('ZENODO', 'TWEETS_REPO')"
   ]
  },
  {
   "cell_type": "code",
   "execution_count": 44,
   "metadata": {},
   "outputs": [],
   "source": [
    "# get meta files  \n",
    "zenodo_get.zenodo_get([\n",
    "    \"-w\", \"flights_meta\", \n",
    "     \"-o\", input_path,\n",
    "    flights_repo\n",
    "])"
   ]
  },
  {
   "cell_type": "code",
   "execution_count": 45,
   "metadata": {},
   "outputs": [],
   "source": [
    "zenodo_get.zenodo_get([\n",
    "    \"-w\", \"tweets_meta\", \n",
    "     \"-o\", input_path,\n",
    "    tweets_repo\n",
    "])"
   ]
  },
  {
   "cell_type": "code",
   "execution_count": 39,
   "metadata": {},
   "outputs": [],
   "source": [
    "# send meta file to s3\n",
    "s3 = boto3.client( 's3', \n",
    "                   aws_access_key_id=KEY,\n",
    "                   aws_secret_access_key=SECRET, \n",
    "                   region_name='us-west-2')\n",
    "\n",
    "s3_bucket = [entry['Name'] for entry in s3.list_buckets()['Buckets'] if 'udacity' in entry['Name']  ]\n"
   ]
  },
  {
   "cell_type": "code",
   "execution_count": 46,
   "metadata": {},
   "outputs": [],
   "source": [
    "s3.upload_file( input_path+'/flights_meta', s3_bucket[0], 'flights' )\n",
    "s3.upload_file( input_path+'/tweets_meta', s3_bucket[0], 'tweets' )"
   ]
  }
 ],
 "metadata": {
  "kernelspec": {
   "display_name": "Python 3",
   "language": "python",
   "name": "python3"
  },
  "language_info": {
   "codemirror_mode": {
    "name": "ipython",
    "version": 3
   },
   "file_extension": ".py",
   "mimetype": "text/x-python",
   "name": "python",
   "nbconvert_exporter": "python",
   "pygments_lexer": "ipython3",
   "version": "3.8.3"
  }
 },
 "nbformat": 4,
 "nbformat_minor": 4
}
