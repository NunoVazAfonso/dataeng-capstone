{
 "cells": [
  {
   "cell_type": "markdown",
   "metadata": {},
   "source": [
    "# Project Description"
   ]
  },
  {
   "cell_type": "markdown",
   "metadata": {},
   "source": [
    "#### Motivation  \n",
    "\n",
    "This is my proposal for the open subject capstone project for conclusion of the **Data Engineering** Nanodegree at Udacity.  \n",
    "\n",
    "For this project, I am looking to target a relevant subject, with real world application, and that produces large amounts of data frequently.  \n",
    "\n",
    "One of the subject that immediately came to my mind is COVID-19. This subject can and has been explored in different ways, and in my view, it can be interesting to see the way travelling and economies were affected by it. This will still unfortunately going to be a relevant subject for months to come, rich in data, and that can be approached in multiple angles.     \n",
    "\n",
    "In this exercise, I will explore some data sets and approaches to the subject. \n"
   ]
  },
  {
   "cell_type": "markdown",
   "metadata": {},
   "source": [
    "#### Scope  \n",
    "TODO  "
   ]
  },
  {
   "cell_type": "markdown",
   "metadata": {},
   "source": [
    "#### Data Exploration"
   ]
  },
  {
   "cell_type": "code",
   "execution_count": null,
   "metadata": {},
   "outputs": [],
   "source": [
    "import configparser\n",
    "conf = configparser.ConfigParser()"
   ]
  },
  {
   "cell_type": "code",
   "execution_count": null,
   "metadata": {},
   "outputs": [],
   "source": [
    "import requests"
   ]
  },
  {
   "cell_type": "code",
   "execution_count": null,
   "metadata": {},
   "outputs": [],
   "source": [
    "conf.read(\"configs/aviation.cfg\")"
   ]
  },
  {
   "cell_type": "markdown",
   "metadata": {},
   "source": [
    "##### Flight data  :\n",
    "\n",
    "https://aviationstack.com/  \n",
    "\n",
    "Historical data not supported. 500 Requests. 100 results per API request.  \n",
    "Airline, airport, cities data.  "
   ]
  },
  {
   "cell_type": "code",
   "execution_count": null,
   "metadata": {},
   "outputs": [],
   "source": [
    "aviation_key = conf[\"AVIATIONSTACK\"][\"ACCESS_KEY\"]\n",
    "aviation_historical_endpoint = 'http://api.aviationstack.com/v1/flights?access_key={access_key}'.format( \n",
    "    access_key = aviation_key \n",
    ")"
   ]
  },
  {
   "cell_type": "code",
   "execution_count": null,
   "metadata": {},
   "outputs": [],
   "source": [
    "response = requests.get(aviation_historical_endpoint)"
   ]
  },
  {
   "cell_type": "code",
   "execution_count": null,
   "metadata": {
    "scrolled": true
   },
   "outputs": [],
   "source": [
    "realtime_flights = response.json()\n",
    "realtime_flights"
   ]
  },
  {
   "cell_type": "markdown",
   "metadata": {},
   "source": [
    "##### OpenSky  resources\n",
    "\n",
    "https://traffic-viz.github.io/scenarios/covid19.html  \n",
    "https://traffic-viz.github.io/opensky_rest.html"
   ]
  },
  {
   "cell_type": "code",
   "execution_count": null,
   "metadata": {},
   "outputs": [],
   "source": [
    "#!conda install cartopy shapely"
   ]
  },
  {
   "cell_type": "code",
   "execution_count": null,
   "metadata": {
    "scrolled": true
   },
   "outputs": [],
   "source": [
    "#!pip install --upgrade traffic"
   ]
  },
  {
   "cell_type": "code",
   "execution_count": null,
   "metadata": {},
   "outputs": [],
   "source": [
    "import traffic\n",
    "## SET opensky_username and opensky_password in following file:\n",
    "traffic.config_file"
   ]
  },
  {
   "cell_type": "code",
   "execution_count": null,
   "metadata": {},
   "outputs": [],
   "source": [
    "%matplotlib inline\n",
    "import matplotlib.pyplot as plt\n",
    "\n",
    "from traffic.data import opensky\n",
    "from traffic.drawing import EuroPP, countries"
   ]
  },
  {
   "cell_type": "markdown",
   "metadata": {},
   "source": [
    "### Current flights"
   ]
  },
  {
   "cell_type": "code",
   "execution_count": null,
   "metadata": {},
   "outputs": [],
   "source": [
    "# States -> Current flights\n",
    "sv = opensky.api_states()\n",
    "\n",
    "with plt.style.context('traffic'):\n",
    "    fig, ax = plt.subplots(subplot_kw=dict(projection=EuroPP()))\n",
    "    ax.add_feature(countries())\n",
    "    ax.gridlines()\n",
    "    ax.set_extent((-7, 15, 40, 55))\n",
    "\n",
    "    sv.plot(ax, s=10)"
   ]
  },
  {
   "cell_type": "code",
   "execution_count": null,
   "metadata": {},
   "outputs": [],
   "source": [
    "# REST API to open sky \n",
    "opensky_endpoint = 'https://opensky-network.org/api'\n",
    "arrivals_endpoint = '/flights/arrival'\n",
    "departures_endpoint = '/flights/departure'\n",
    "all_flights_endpoint = '/flights/all'"
   ]
  },
  {
   "cell_type": "markdown",
   "metadata": {},
   "source": [
    "### Arrivals"
   ]
  },
  {
   "cell_type": "code",
   "execution_count": null,
   "metadata": {},
   "outputs": [],
   "source": [
    "# set ARRIVALS params -> 7 days max\n",
    "params = {\n",
    "    'airport': 'EDDF'\n",
    "    ,'begin': 1612183863\n",
    "    ,'end': 1612615863\n",
    "} \n",
    "arrivals_response = requests.get(opensky_endpoint + arrivals_endpoint , params )"
   ]
  },
  {
   "cell_type": "code",
   "execution_count": null,
   "metadata": {
    "scrolled": false
   },
   "outputs": [],
   "source": [
    "# Get demo ARRIVALS \n",
    "arrivals_response.json()"
   ]
  },
  {
   "cell_type": "markdown",
   "metadata": {},
   "source": [
    "### All flights"
   ]
  },
  {
   "cell_type": "code",
   "execution_count": null,
   "metadata": {},
   "outputs": [],
   "source": [
    "# set ALL FLIGHTS params -> two hours max\n",
    "params = {\n",
    "    'begin': 1612183863\n",
    "    ,'end': 1612184863\n",
    "} \n",
    "all_flights_response = requests.get(opensky_endpoint + all_flights_endpoint , params )"
   ]
  },
  {
   "cell_type": "code",
   "execution_count": null,
   "metadata": {},
   "outputs": [],
   "source": [
    "# Get demo ALL FLIGHTS\n",
    "all_flights_response.json()"
   ]
  },
  {
   "cell_type": "markdown",
   "metadata": {},
   "source": [
    "### Loading CSV files"
   ]
  },
  {
   "cell_type": "code",
   "execution_count": null,
   "metadata": {},
   "outputs": [],
   "source": [
    "#!pip install zenodo-get"
   ]
  },
  {
   "cell_type": "code",
   "execution_count": null,
   "metadata": {},
   "outputs": [],
   "source": [
    "!cd input/data | zenodo_get 4485741"
   ]
  },
  {
   "cell_type": "code",
   "execution_count": null,
   "metadata": {},
   "outputs": [],
   "source": [
    "import pandas as pd"
   ]
  },
  {
   "cell_type": "code",
   "execution_count": null,
   "metadata": {},
   "outputs": [],
   "source": [
    "pd.read_csv('input/data/flightlist_20190101_20190131.csv.gz', \n",
    "            header=0, \n",
    "            sep=',', \n",
    "            quotechar='\"', \n",
    "            error_bad_lines=False)"
   ]
  },
  {
   "cell_type": "markdown",
   "metadata": {},
   "source": [
    "### Twitter data   \n",
    "\n",
    "http://twitterdata.covid19dataresources.org/data/  \n",
    "https://zenodo.org/record/4568860#.YDvUKv7LcYs  "
   ]
  },
  {
   "cell_type": "code",
   "execution_count": null,
   "metadata": {},
   "outputs": [],
   "source": [
    "# Download Twitter data\n",
    "!zenodo_get 4568860 -o input/data/twitter "
   ]
  },
  {
   "cell_type": "code",
   "execution_count": null,
   "metadata": {},
   "outputs": [],
   "source": [
    "pd.read_json('input/data/twitter/covid19_2020_02_06.json.gz' \n",
    "             , compression = 'gzip'\n",
    "             , lines=True)"
   ]
  },
  {
   "cell_type": "markdown",
   "metadata": {},
   "source": [
    "## Covid Data"
   ]
  },
  {
   "cell_type": "markdown",
   "metadata": {},
   "source": [
    "https://github.com/owid/covid-19-data/tree/master/public/data/vaccinations  \n",
    "https://data.humdata.org/dataset/coronavirus-covid-19-cases-and-deaths  "
   ]
  },
  {
   "cell_type": "markdown",
   "metadata": {},
   "source": [
    "### Vaccination"
   ]
  },
  {
   "cell_type": "code",
   "execution_count": null,
   "metadata": {},
   "outputs": [],
   "source": [
    "vaccination_url = 'https://raw.githubusercontent.com/owid/covid-19-data/master/public/data/vaccinations/vaccinations.json'"
   ]
  },
  {
   "cell_type": "code",
   "execution_count": null,
   "metadata": {},
   "outputs": [],
   "source": [
    "daily_vaccinations = pd.json_normalize( requests.get(vaccination_url).json() \n",
    "                  ,meta=['country', 'iso_code']\n",
    "                  ,record_path= 'data' )\n",
    "\n",
    "daily_vaccinations[daily_vaccinations['country'] == 'Portugal'].sort_values('date')"
   ]
  },
  {
   "cell_type": "markdown",
   "metadata": {},
   "source": [
    "### Cases and Deaths"
   ]
  },
  {
   "cell_type": "code",
   "execution_count": null,
   "metadata": {},
   "outputs": [],
   "source": [
    "# daily data on COVID cases and deaths\n",
    "cases_df = pd.read_csv('https://covid19.who.int/WHO-COVID-19-global-data.csv')\n",
    "\n",
    "cases_df[cases_df['Country'] == 'Portugal' ].sort_values('Date_reported')"
   ]
  },
  {
   "cell_type": "markdown",
   "metadata": {},
   "source": [
    "\n",
    "### Data Engineering Capstone Project\n",
    "\n",
    "#### Project Summary\n",
    "--describe your project at a high level--\n",
    "\n",
    "The project follows the follow steps:\n",
    "* Step 1: Scope the Project and Gather Data\n",
    "* Step 2: Explore and Assess the Data\n",
    "* Step 3: Define the Data Model\n",
    "* Step 4: Run ETL to Model the Data\n",
    "* Step 5: Complete Project Write Up"
   ]
  }
 ],
 "metadata": {
  "kernelspec": {
   "display_name": "Python 3",
   "language": "python",
   "name": "python3"
  },
  "language_info": {
   "codemirror_mode": {
    "name": "ipython",
    "version": 3
   },
   "file_extension": ".py",
   "mimetype": "text/x-python",
   "name": "python",
   "nbconvert_exporter": "python",
   "pygments_lexer": "ipython3",
   "version": "3.8.3"
  }
 },
 "nbformat": 4,
 "nbformat_minor": 4
}
