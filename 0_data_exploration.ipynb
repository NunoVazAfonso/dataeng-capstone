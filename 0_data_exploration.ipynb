{
 "cells": [
  {
   "cell_type": "markdown",
   "metadata": {},
   "source": [
    "# Project Description"
   ]
  },
  {
   "cell_type": "markdown",
   "metadata": {},
   "source": [
    "#### Motivation  \n",
    "\n",
    "This is my proposal for the open subject capstone project for conclusion of the **Data Engineering** Nanodegree at Udacity.  \n",
    "\n",
    "For this project, I am looking to target a relevant subject, with real world application, and that produces large amounts of data frequently.  \n",
    "\n",
    "One of the subject that immediately came to my mind is COVID-19. This subject can and has been explored in different ways, and in my view, it can be interesting to see the way travelling and economies were affected by it. This will still unfortunately going to be a relevant subject for months to come, rich in data, and that can be approached in multiple angles.     \n",
    "\n",
    "In this exercise, I will explore some data sets and approaches to the subject. \n"
   ]
  },
  {
   "cell_type": "markdown",
   "metadata": {},
   "source": [
    "#### Scope  \n",
    "TODO  "
   ]
  },
  {
   "cell_type": "markdown",
   "metadata": {},
   "source": [
    "#### Data Exploration"
   ]
  },
  {
   "cell_type": "code",
   "execution_count": 1,
   "metadata": {},
   "outputs": [],
   "source": [
    "import configparser\n",
    "conf = configparser.ConfigParser()"
   ]
  },
  {
   "cell_type": "code",
   "execution_count": 2,
   "metadata": {},
   "outputs": [],
   "source": [
    "import requests"
   ]
  },
  {
   "cell_type": "code",
   "execution_count": 3,
   "metadata": {},
   "outputs": [
    {
     "data": {
      "text/plain": [
       "[]"
      ]
     },
     "execution_count": 3,
     "metadata": {},
     "output_type": "execute_result"
    }
   ],
   "source": [
    "conf.read(\"configs/aviation.cfg\")"
   ]
  },
  {
   "cell_type": "markdown",
   "metadata": {},
   "source": [
    "##### Flight data  :\n",
    "\n",
    "https://aviationstack.com/  \n",
    "\n",
    "Historical data not supported. 500 Requests. 100 results per API request.  \n",
    "Airline, airport, cities data.  "
   ]
  },
  {
   "cell_type": "code",
   "execution_count": null,
   "metadata": {},
   "outputs": [],
   "source": [
    "aviation_key = conf[\"AVIATIONSTACK\"][\"ACCESS_KEY\"]\n",
    "aviation_historical_endpoint = 'http://api.aviationstack.com/v1/flights?access_key={access_key}'.format( \n",
    "    access_key = aviation_key \n",
    ")"
   ]
  },
  {
   "cell_type": "code",
   "execution_count": null,
   "metadata": {},
   "outputs": [],
   "source": [
    "response = requests.get(aviation_historical_endpoint)"
   ]
  },
  {
   "cell_type": "code",
   "execution_count": null,
   "metadata": {
    "scrolled": true
   },
   "outputs": [],
   "source": [
    "realtime_flights = response.json()\n",
    "realtime_flights"
   ]
  },
  {
   "cell_type": "markdown",
   "metadata": {},
   "source": [
    "##### OpenSky  resources\n",
    "\n",
    "https://traffic-viz.github.io/scenarios/covid19.html  \n",
    "https://traffic-viz.github.io/opensky_rest.html"
   ]
  },
  {
   "cell_type": "code",
   "execution_count": null,
   "metadata": {},
   "outputs": [],
   "source": [
    "#!conda install cartopy shapely"
   ]
  },
  {
   "cell_type": "code",
   "execution_count": null,
   "metadata": {
    "scrolled": true
   },
   "outputs": [],
   "source": [
    "#!pip install --upgrade traffic"
   ]
  },
  {
   "cell_type": "code",
   "execution_count": null,
   "metadata": {},
   "outputs": [],
   "source": [
    "import traffic\n",
    "## SET opensky_username and opensky_password in following file:\n",
    "traffic.config_file"
   ]
  },
  {
   "cell_type": "code",
   "execution_count": 6,
   "metadata": {},
   "outputs": [
    {
     "name": "stderr",
     "output_type": "stream",
     "text": [
      "/home/nunovazafonso/anaconda3/lib/python3.8/site-packages/traffic/data/__init__.py:65: DeprecationWarning: Please edit your configuration file:\n",
      "\n",
      "        # Old style, will soon no longer be supported\n",
      "        [global]\n",
      "        opensky_username =\n",
      "        opensky_password =\n",
      "\n",
      "        # New style\n",
      "\n",
      "        [opensky]\n",
      "        username =\n",
      "        password =\n",
      "\n",
      "        \n",
      "  warnings.warn(\n"
     ]
    }
   ],
   "source": [
    "%matplotlib inline\n",
    "import matplotlib.pyplot as plt\n",
    "\n",
    "from traffic.data import opensky\n",
    "from traffic.drawing import EuroPP, countries"
   ]
  },
  {
   "cell_type": "markdown",
   "metadata": {},
   "source": [
    "### Current flights"
   ]
  },
  {
   "cell_type": "code",
   "execution_count": null,
   "metadata": {},
   "outputs": [],
   "source": [
    "# States -> Current flights\n",
    "sv = opensky.api_states()\n",
    "\n",
    "with plt.style.context('traffic'):\n",
    "    fig, ax = plt.subplots(subplot_kw=dict(projection=EuroPP()))\n",
    "    ax.add_feature(countries())\n",
    "    ax.gridlines()\n",
    "    ax.set_extent((-7, 15, 40, 55))\n",
    "\n",
    "    sv.plot(ax, s=10)"
   ]
  },
  {
   "cell_type": "code",
   "execution_count": null,
   "metadata": {},
   "outputs": [],
   "source": [
    "# REST API to open sky \n",
    "opensky_endpoint = 'https://opensky-network.org/api'\n",
    "arrivals_endpoint = '/flights/arrival'\n",
    "departures_endpoint = '/flights/departure'\n",
    "all_flights_endpoint = '/flights/all'"
   ]
  },
  {
   "cell_type": "markdown",
   "metadata": {},
   "source": [
    "### Arrivals"
   ]
  },
  {
   "cell_type": "code",
   "execution_count": null,
   "metadata": {},
   "outputs": [],
   "source": [
    "# set ARRIVALS params -> 7 days max\n",
    "params = {\n",
    "    'airport': 'EDDF'\n",
    "    ,'begin': 1612183863\n",
    "    ,'end': 1612615863\n",
    "} \n",
    "arrivals_response = requests.get(opensky_endpoint + arrivals_endpoint , params )"
   ]
  },
  {
   "cell_type": "code",
   "execution_count": null,
   "metadata": {
    "scrolled": false
   },
   "outputs": [],
   "source": [
    "# Get demo ARRIVALS \n",
    "arrivals_response.json()"
   ]
  },
  {
   "cell_type": "markdown",
   "metadata": {},
   "source": [
    "### All flights"
   ]
  },
  {
   "cell_type": "code",
   "execution_count": null,
   "metadata": {},
   "outputs": [],
   "source": [
    "# set ALL FLIGHTS params -> two hours max\n",
    "params = {\n",
    "    'begin': 1612183863\n",
    "    ,'end': 1612184863\n",
    "} \n",
    "all_flights_response = requests.get(opensky_endpoint + all_flights_endpoint , params )"
   ]
  },
  {
   "cell_type": "code",
   "execution_count": null,
   "metadata": {},
   "outputs": [],
   "source": [
    "# Get demo ALL FLIGHTS\n",
    "all_flights_response.json()"
   ]
  },
  {
   "cell_type": "markdown",
   "metadata": {},
   "source": [
    "### Loading CSV files"
   ]
  },
  {
   "cell_type": "code",
   "execution_count": null,
   "metadata": {},
   "outputs": [],
   "source": [
    "#!pip install zenodo-get"
   ]
  },
  {
   "cell_type": "code",
   "execution_count": null,
   "metadata": {},
   "outputs": [],
   "source": [
    "!cd input/data | zenodo_get 4485741"
   ]
  },
  {
   "cell_type": "code",
   "execution_count": 7,
   "metadata": {},
   "outputs": [
    {
     "name": "stderr",
     "output_type": "stream",
     "text": [
      "/home/nunovazafonso/.local/lib/python3.8/site-packages/ipykernel/ipkernel.py:287: DeprecationWarning: `should_run_async` will not call `transform_cell` automatically in the future. Please pass the result to `transformed_cell` argument and any exception that happen during thetransform in `preprocessing_exc_tuple` in IPython 7.17 and above.\n",
      "  and should_run_async(code)\n"
     ]
    }
   ],
   "source": [
    "import pandas as pd"
   ]
  },
  {
   "cell_type": "code",
   "execution_count": null,
   "metadata": {},
   "outputs": [],
   "source": [
    "pd.read_csv('input/data/flightlist_20190101_20190131.csv.gz', \n",
    "            header=0, \n",
    "            sep=',', \n",
    "            quotechar='\"', \n",
    "            error_bad_lines=False)"
   ]
  },
  {
   "cell_type": "markdown",
   "metadata": {},
   "source": [
    "### Twitter data   \n",
    "\n",
    "http://twitterdata.covid19dataresources.org/data/  \n",
    "https://zenodo.org/record/4568860#.YDvUKv7LcYs  "
   ]
  },
  {
   "cell_type": "code",
   "execution_count": null,
   "metadata": {},
   "outputs": [],
   "source": [
    "# Download Twitter data\n",
    "!zenodo_get 4568860 -o input/data/twitter "
   ]
  },
  {
   "cell_type": "code",
   "execution_count": null,
   "metadata": {},
   "outputs": [],
   "source": [
    "pd.read_json('input/data/twitter/covid19_2020_02_06.json.gz' \n",
    "             , compression = 'gzip'\n",
    "             , lines=True)"
   ]
  },
  {
   "cell_type": "markdown",
   "metadata": {},
   "source": [
    "## Covid Data"
   ]
  },
  {
   "cell_type": "markdown",
   "metadata": {},
   "source": [
    "https://github.com/owid/covid-19-data/tree/master/public/data/vaccinations  \n",
    "https://data.humdata.org/dataset/coronavirus-covid-19-cases-and-deaths  "
   ]
  },
  {
   "cell_type": "markdown",
   "metadata": {},
   "source": [
    "### Vaccination"
   ]
  },
  {
   "cell_type": "code",
   "execution_count": 8,
   "metadata": {},
   "outputs": [],
   "source": [
    "vaccination_url = 'https://raw.githubusercontent.com/owid/covid-19-data/master/public/data/vaccinations/vaccinations.json'"
   ]
  },
  {
   "cell_type": "code",
   "execution_count": 9,
   "metadata": {
    "scrolled": true
   },
   "outputs": [
    {
     "data": {
      "text/html": [
       "<div>\n",
       "<style scoped>\n",
       "    .dataframe tbody tr th:only-of-type {\n",
       "        vertical-align: middle;\n",
       "    }\n",
       "\n",
       "    .dataframe tbody tr th {\n",
       "        vertical-align: top;\n",
       "    }\n",
       "\n",
       "    .dataframe thead th {\n",
       "        text-align: right;\n",
       "    }\n",
       "</style>\n",
       "<table border=\"1\" class=\"dataframe\">\n",
       "  <thead>\n",
       "    <tr style=\"text-align: right;\">\n",
       "      <th></th>\n",
       "      <th>date</th>\n",
       "      <th>total_vaccinations</th>\n",
       "      <th>people_vaccinated</th>\n",
       "      <th>total_vaccinations_per_hundred</th>\n",
       "      <th>people_vaccinated_per_hundred</th>\n",
       "      <th>daily_vaccinations</th>\n",
       "      <th>daily_vaccinations_per_million</th>\n",
       "      <th>daily_vaccinations_raw</th>\n",
       "      <th>people_fully_vaccinated</th>\n",
       "      <th>people_fully_vaccinated_per_hundred</th>\n",
       "      <th>country</th>\n",
       "      <th>iso_code</th>\n",
       "    </tr>\n",
       "  </thead>\n",
       "  <tbody>\n",
       "    <tr>\n",
       "      <th>5950</th>\n",
       "      <td>2020-12-27</td>\n",
       "      <td>4963.0</td>\n",
       "      <td>4963.0</td>\n",
       "      <td>0.05</td>\n",
       "      <td>0.05</td>\n",
       "      <td>NaN</td>\n",
       "      <td>NaN</td>\n",
       "      <td>NaN</td>\n",
       "      <td>NaN</td>\n",
       "      <td>NaN</td>\n",
       "      <td>Portugal</td>\n",
       "      <td>PRT</td>\n",
       "    </tr>\n",
       "    <tr>\n",
       "      <th>5951</th>\n",
       "      <td>2020-12-28</td>\n",
       "      <td>7754.0</td>\n",
       "      <td>7754.0</td>\n",
       "      <td>0.08</td>\n",
       "      <td>0.08</td>\n",
       "      <td>2791.0</td>\n",
       "      <td>274.0</td>\n",
       "      <td>2791.0</td>\n",
       "      <td>NaN</td>\n",
       "      <td>NaN</td>\n",
       "      <td>Portugal</td>\n",
       "      <td>PRT</td>\n",
       "    </tr>\n",
       "    <tr>\n",
       "      <th>5952</th>\n",
       "      <td>2020-12-29</td>\n",
       "      <td>20368.0</td>\n",
       "      <td>20368.0</td>\n",
       "      <td>0.20</td>\n",
       "      <td>0.20</td>\n",
       "      <td>7702.0</td>\n",
       "      <td>755.0</td>\n",
       "      <td>12614.0</td>\n",
       "      <td>NaN</td>\n",
       "      <td>NaN</td>\n",
       "      <td>Portugal</td>\n",
       "      <td>PRT</td>\n",
       "    </tr>\n",
       "    <tr>\n",
       "      <th>5953</th>\n",
       "      <td>2020-12-30</td>\n",
       "      <td>30543.0</td>\n",
       "      <td>30543.0</td>\n",
       "      <td>0.30</td>\n",
       "      <td>0.30</td>\n",
       "      <td>8527.0</td>\n",
       "      <td>836.0</td>\n",
       "      <td>10175.0</td>\n",
       "      <td>NaN</td>\n",
       "      <td>NaN</td>\n",
       "      <td>Portugal</td>\n",
       "      <td>PRT</td>\n",
       "    </tr>\n",
       "    <tr>\n",
       "      <th>5954</th>\n",
       "      <td>2020-12-31</td>\n",
       "      <td>32749.0</td>\n",
       "      <td>32749.0</td>\n",
       "      <td>0.32</td>\n",
       "      <td>0.32</td>\n",
       "      <td>6946.0</td>\n",
       "      <td>681.0</td>\n",
       "      <td>2206.0</td>\n",
       "      <td>NaN</td>\n",
       "      <td>NaN</td>\n",
       "      <td>Portugal</td>\n",
       "      <td>PRT</td>\n",
       "    </tr>\n",
       "    <tr>\n",
       "      <th>...</th>\n",
       "      <td>...</td>\n",
       "      <td>...</td>\n",
       "      <td>...</td>\n",
       "      <td>...</td>\n",
       "      <td>...</td>\n",
       "      <td>...</td>\n",
       "      <td>...</td>\n",
       "      <td>...</td>\n",
       "      <td>...</td>\n",
       "      <td>...</td>\n",
       "      <td>...</td>\n",
       "      <td>...</td>\n",
       "    </tr>\n",
       "    <tr>\n",
       "      <th>6029</th>\n",
       "      <td>2021-03-16</td>\n",
       "      <td>1193186.0</td>\n",
       "      <td>849464.0</td>\n",
       "      <td>11.70</td>\n",
       "      <td>8.33</td>\n",
       "      <td>21299.0</td>\n",
       "      <td>2089.0</td>\n",
       "      <td>24971.0</td>\n",
       "      <td>343722.0</td>\n",
       "      <td>3.37</td>\n",
       "      <td>Portugal</td>\n",
       "      <td>PRT</td>\n",
       "    </tr>\n",
       "    <tr>\n",
       "      <th>6030</th>\n",
       "      <td>2021-03-17</td>\n",
       "      <td>1200691.0</td>\n",
       "      <td>851022.0</td>\n",
       "      <td>11.78</td>\n",
       "      <td>8.35</td>\n",
       "      <td>20801.0</td>\n",
       "      <td>2040.0</td>\n",
       "      <td>7505.0</td>\n",
       "      <td>349669.0</td>\n",
       "      <td>3.43</td>\n",
       "      <td>Portugal</td>\n",
       "      <td>PRT</td>\n",
       "    </tr>\n",
       "    <tr>\n",
       "      <th>6031</th>\n",
       "      <td>2021-03-18</td>\n",
       "      <td>1235136.0</td>\n",
       "      <td>863570.0</td>\n",
       "      <td>12.11</td>\n",
       "      <td>8.47</td>\n",
       "      <td>22339.0</td>\n",
       "      <td>2191.0</td>\n",
       "      <td>34445.0</td>\n",
       "      <td>371566.0</td>\n",
       "      <td>3.64</td>\n",
       "      <td>Portugal</td>\n",
       "      <td>PRT</td>\n",
       "    </tr>\n",
       "    <tr>\n",
       "      <th>6032</th>\n",
       "      <td>2021-03-19</td>\n",
       "      <td>1280409.0</td>\n",
       "      <td>875490.0</td>\n",
       "      <td>12.56</td>\n",
       "      <td>8.59</td>\n",
       "      <td>23789.0</td>\n",
       "      <td>2333.0</td>\n",
       "      <td>45273.0</td>\n",
       "      <td>404919.0</td>\n",
       "      <td>3.97</td>\n",
       "      <td>Portugal</td>\n",
       "      <td>PRT</td>\n",
       "    </tr>\n",
       "    <tr>\n",
       "      <th>6033</th>\n",
       "      <td>2021-03-20</td>\n",
       "      <td>1325266.0</td>\n",
       "      <td>892372.0</td>\n",
       "      <td>13.00</td>\n",
       "      <td>8.75</td>\n",
       "      <td>25384.0</td>\n",
       "      <td>2489.0</td>\n",
       "      <td>44857.0</td>\n",
       "      <td>432894.0</td>\n",
       "      <td>4.25</td>\n",
       "      <td>Portugal</td>\n",
       "      <td>PRT</td>\n",
       "    </tr>\n",
       "  </tbody>\n",
       "</table>\n",
       "<p>84 rows × 12 columns</p>\n",
       "</div>"
      ],
      "text/plain": [
       "            date  total_vaccinations  people_vaccinated  \\\n",
       "5950  2020-12-27              4963.0             4963.0   \n",
       "5951  2020-12-28              7754.0             7754.0   \n",
       "5952  2020-12-29             20368.0            20368.0   \n",
       "5953  2020-12-30             30543.0            30543.0   \n",
       "5954  2020-12-31             32749.0            32749.0   \n",
       "...          ...                 ...                ...   \n",
       "6029  2021-03-16           1193186.0           849464.0   \n",
       "6030  2021-03-17           1200691.0           851022.0   \n",
       "6031  2021-03-18           1235136.0           863570.0   \n",
       "6032  2021-03-19           1280409.0           875490.0   \n",
       "6033  2021-03-20           1325266.0           892372.0   \n",
       "\n",
       "      total_vaccinations_per_hundred  people_vaccinated_per_hundred  \\\n",
       "5950                            0.05                           0.05   \n",
       "5951                            0.08                           0.08   \n",
       "5952                            0.20                           0.20   \n",
       "5953                            0.30                           0.30   \n",
       "5954                            0.32                           0.32   \n",
       "...                              ...                            ...   \n",
       "6029                           11.70                           8.33   \n",
       "6030                           11.78                           8.35   \n",
       "6031                           12.11                           8.47   \n",
       "6032                           12.56                           8.59   \n",
       "6033                           13.00                           8.75   \n",
       "\n",
       "      daily_vaccinations  daily_vaccinations_per_million  \\\n",
       "5950                 NaN                             NaN   \n",
       "5951              2791.0                           274.0   \n",
       "5952              7702.0                           755.0   \n",
       "5953              8527.0                           836.0   \n",
       "5954              6946.0                           681.0   \n",
       "...                  ...                             ...   \n",
       "6029             21299.0                          2089.0   \n",
       "6030             20801.0                          2040.0   \n",
       "6031             22339.0                          2191.0   \n",
       "6032             23789.0                          2333.0   \n",
       "6033             25384.0                          2489.0   \n",
       "\n",
       "      daily_vaccinations_raw  people_fully_vaccinated  \\\n",
       "5950                     NaN                      NaN   \n",
       "5951                  2791.0                      NaN   \n",
       "5952                 12614.0                      NaN   \n",
       "5953                 10175.0                      NaN   \n",
       "5954                  2206.0                      NaN   \n",
       "...                      ...                      ...   \n",
       "6029                 24971.0                 343722.0   \n",
       "6030                  7505.0                 349669.0   \n",
       "6031                 34445.0                 371566.0   \n",
       "6032                 45273.0                 404919.0   \n",
       "6033                 44857.0                 432894.0   \n",
       "\n",
       "      people_fully_vaccinated_per_hundred   country iso_code  \n",
       "5950                                  NaN  Portugal      PRT  \n",
       "5951                                  NaN  Portugal      PRT  \n",
       "5952                                  NaN  Portugal      PRT  \n",
       "5953                                  NaN  Portugal      PRT  \n",
       "5954                                  NaN  Portugal      PRT  \n",
       "...                                   ...       ...      ...  \n",
       "6029                                 3.37  Portugal      PRT  \n",
       "6030                                 3.43  Portugal      PRT  \n",
       "6031                                 3.64  Portugal      PRT  \n",
       "6032                                 3.97  Portugal      PRT  \n",
       "6033                                 4.25  Portugal      PRT  \n",
       "\n",
       "[84 rows x 12 columns]"
      ]
     },
     "execution_count": 9,
     "metadata": {},
     "output_type": "execute_result"
    }
   ],
   "source": [
    "daily_vaccinations = pd.json_normalize( requests.get(vaccination_url).json() \n",
    "                  ,meta=['country', 'iso_code']\n",
    "                  ,record_path= 'data' )\n",
    "\n",
    "daily_vaccinations[daily_vaccinations['country'] == 'Portugal'].sort_values('date')"
   ]
  },
  {
   "cell_type": "markdown",
   "metadata": {},
   "source": [
    "### Cases and Deaths"
   ]
  },
  {
   "cell_type": "code",
   "execution_count": 10,
   "metadata": {
    "scrolled": true
   },
   "outputs": [
    {
     "name": "stderr",
     "output_type": "stream",
     "text": [
      "/home/nunovazafonso/.local/lib/python3.8/site-packages/ipykernel/ipkernel.py:287: DeprecationWarning: `should_run_async` will not call `transform_cell` automatically in the future. Please pass the result to `transformed_cell` argument and any exception that happen during thetransform in `preprocessing_exc_tuple` in IPython 7.17 and above.\n",
      "  and should_run_async(code)\n"
     ]
    },
    {
     "data": {
      "text/html": [
       "<div>\n",
       "<style scoped>\n",
       "    .dataframe tbody tr th:only-of-type {\n",
       "        vertical-align: middle;\n",
       "    }\n",
       "\n",
       "    .dataframe tbody tr th {\n",
       "        vertical-align: top;\n",
       "    }\n",
       "\n",
       "    .dataframe thead th {\n",
       "        text-align: right;\n",
       "    }\n",
       "</style>\n",
       "<table border=\"1\" class=\"dataframe\">\n",
       "  <thead>\n",
       "    <tr style=\"text-align: right;\">\n",
       "      <th></th>\n",
       "      <th>Date_reported</th>\n",
       "      <th>Country_code</th>\n",
       "      <th>Country</th>\n",
       "      <th>WHO_region</th>\n",
       "      <th>New_cases</th>\n",
       "      <th>Cumulative_cases</th>\n",
       "      <th>New_deaths</th>\n",
       "      <th>Cumulative_deaths</th>\n",
       "    </tr>\n",
       "  </thead>\n",
       "  <tbody>\n",
       "    <tr>\n",
       "      <th>74592</th>\n",
       "      <td>2020-01-03</td>\n",
       "      <td>PT</td>\n",
       "      <td>Portugal</td>\n",
       "      <td>EURO</td>\n",
       "      <td>0</td>\n",
       "      <td>0</td>\n",
       "      <td>0</td>\n",
       "      <td>0</td>\n",
       "    </tr>\n",
       "    <tr>\n",
       "      <th>74593</th>\n",
       "      <td>2020-01-04</td>\n",
       "      <td>PT</td>\n",
       "      <td>Portugal</td>\n",
       "      <td>EURO</td>\n",
       "      <td>0</td>\n",
       "      <td>0</td>\n",
       "      <td>0</td>\n",
       "      <td>0</td>\n",
       "    </tr>\n",
       "    <tr>\n",
       "      <th>74594</th>\n",
       "      <td>2020-01-05</td>\n",
       "      <td>PT</td>\n",
       "      <td>Portugal</td>\n",
       "      <td>EURO</td>\n",
       "      <td>0</td>\n",
       "      <td>0</td>\n",
       "      <td>0</td>\n",
       "      <td>0</td>\n",
       "    </tr>\n",
       "    <tr>\n",
       "      <th>74595</th>\n",
       "      <td>2020-01-06</td>\n",
       "      <td>PT</td>\n",
       "      <td>Portugal</td>\n",
       "      <td>EURO</td>\n",
       "      <td>0</td>\n",
       "      <td>0</td>\n",
       "      <td>0</td>\n",
       "      <td>0</td>\n",
       "    </tr>\n",
       "    <tr>\n",
       "      <th>74596</th>\n",
       "      <td>2020-01-07</td>\n",
       "      <td>PT</td>\n",
       "      <td>Portugal</td>\n",
       "      <td>EURO</td>\n",
       "      <td>0</td>\n",
       "      <td>0</td>\n",
       "      <td>0</td>\n",
       "      <td>0</td>\n",
       "    </tr>\n",
       "    <tr>\n",
       "      <th>...</th>\n",
       "      <td>...</td>\n",
       "      <td>...</td>\n",
       "      <td>...</td>\n",
       "      <td>...</td>\n",
       "      <td>...</td>\n",
       "      <td>...</td>\n",
       "      <td>...</td>\n",
       "      <td>...</td>\n",
       "    </tr>\n",
       "    <tr>\n",
       "      <th>75031</th>\n",
       "      <td>2021-03-17</td>\n",
       "      <td>PT</td>\n",
       "      <td>Portugal</td>\n",
       "      <td>EURO</td>\n",
       "      <td>384</td>\n",
       "      <td>814897</td>\n",
       "      <td>13</td>\n",
       "      <td>16707</td>\n",
       "    </tr>\n",
       "    <tr>\n",
       "      <th>75032</th>\n",
       "      <td>2021-03-18</td>\n",
       "      <td>PT</td>\n",
       "      <td>Portugal</td>\n",
       "      <td>EURO</td>\n",
       "      <td>673</td>\n",
       "      <td>815570</td>\n",
       "      <td>15</td>\n",
       "      <td>16722</td>\n",
       "    </tr>\n",
       "    <tr>\n",
       "      <th>75033</th>\n",
       "      <td>2021-03-19</td>\n",
       "      <td>PT</td>\n",
       "      <td>Portugal</td>\n",
       "      <td>EURO</td>\n",
       "      <td>485</td>\n",
       "      <td>816055</td>\n",
       "      <td>21</td>\n",
       "      <td>16743</td>\n",
       "    </tr>\n",
       "    <tr>\n",
       "      <th>75034</th>\n",
       "      <td>2021-03-20</td>\n",
       "      <td>PT</td>\n",
       "      <td>Portugal</td>\n",
       "      <td>EURO</td>\n",
       "      <td>568</td>\n",
       "      <td>816623</td>\n",
       "      <td>11</td>\n",
       "      <td>16754</td>\n",
       "    </tr>\n",
       "    <tr>\n",
       "      <th>75035</th>\n",
       "      <td>2021-03-21</td>\n",
       "      <td>PT</td>\n",
       "      <td>Portugal</td>\n",
       "      <td>EURO</td>\n",
       "      <td>457</td>\n",
       "      <td>817080</td>\n",
       "      <td>8</td>\n",
       "      <td>16762</td>\n",
       "    </tr>\n",
       "  </tbody>\n",
       "</table>\n",
       "<p>444 rows × 8 columns</p>\n",
       "</div>"
      ],
      "text/plain": [
       "      Date_reported Country_code   Country WHO_region  New_cases  \\\n",
       "74592    2020-01-03           PT  Portugal       EURO          0   \n",
       "74593    2020-01-04           PT  Portugal       EURO          0   \n",
       "74594    2020-01-05           PT  Portugal       EURO          0   \n",
       "74595    2020-01-06           PT  Portugal       EURO          0   \n",
       "74596    2020-01-07           PT  Portugal       EURO          0   \n",
       "...             ...          ...       ...        ...        ...   \n",
       "75031    2021-03-17           PT  Portugal       EURO        384   \n",
       "75032    2021-03-18           PT  Portugal       EURO        673   \n",
       "75033    2021-03-19           PT  Portugal       EURO        485   \n",
       "75034    2021-03-20           PT  Portugal       EURO        568   \n",
       "75035    2021-03-21           PT  Portugal       EURO        457   \n",
       "\n",
       "       Cumulative_cases  New_deaths  Cumulative_deaths  \n",
       "74592                 0           0                  0  \n",
       "74593                 0           0                  0  \n",
       "74594                 0           0                  0  \n",
       "74595                 0           0                  0  \n",
       "74596                 0           0                  0  \n",
       "...                 ...         ...                ...  \n",
       "75031            814897          13              16707  \n",
       "75032            815570          15              16722  \n",
       "75033            816055          21              16743  \n",
       "75034            816623          11              16754  \n",
       "75035            817080           8              16762  \n",
       "\n",
       "[444 rows x 8 columns]"
      ]
     },
     "execution_count": 10,
     "metadata": {},
     "output_type": "execute_result"
    }
   ],
   "source": [
    "covid_url = 'https://covid19.who.int/WHO-COVID-19-global-data.csv'\n",
    "# daily data on COVID cases and deaths\n",
    "cases_df = pd.read_csv( covid_url )\n",
    "\n",
    "cases_df[cases_df['Country'] == 'Portugal' ].sort_values('Date_reported')"
   ]
  },
  {
   "cell_type": "code",
   "execution_count": null,
   "metadata": {},
   "outputs": [],
   "source": [
    "destination_folder = \"input/data\" \n",
    "cases_df.to_csv( destination_folder + \"/covid_data.csv\", sep=\",\" )"
   ]
  },
  {
   "cell_type": "markdown",
   "metadata": {},
   "source": [
    "\n",
    "### Data Engineering Capstone Project\n",
    "\n",
    "#### Project Summary\n",
    "--describe your project at a high level--\n",
    "\n",
    "The project follows the follow steps:\n",
    "* Step 1: Scope the Project and Gather Data\n",
    "* Step 2: Explore and Assess the Data\n",
    "* Step 3: Define the Data Model\n",
    "* Step 4: Run ETL to Model the Data\n",
    "* Step 5: Complete Project Write Up"
   ]
  }
 ],
 "metadata": {
  "kernelspec": {
   "display_name": "Python 3",
   "language": "python",
   "name": "python3"
  },
  "language_info": {
   "codemirror_mode": {
    "name": "ipython",
    "version": 3
   },
   "file_extension": ".py",
   "mimetype": "text/x-python",
   "name": "python",
   "nbconvert_exporter": "python",
   "pygments_lexer": "ipython3",
   "version": "3.8.3"
  }
 },
 "nbformat": 4,
 "nbformat_minor": 4
}
